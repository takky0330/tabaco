{
  "nbformat": 4,
  "nbformat_minor": 0,
  "metadata": {
    "colab": {
      "provenance": [],
      "mount_file_id": "1zRcBMSDAfLPvScGHAc8hodcsY2fLM5cE",
      "authorship_tag": "ABX9TyMgdvWuidw2+2v9sQwAzIJr",
      "include_colab_link": true
    },
    "kernelspec": {
      "name": "python3",
      "display_name": "Python 3"
    },
    "language_info": {
      "name": "python"
    }
  },
  "cells": [
    {
      "cell_type": "markdown",
      "metadata": {
        "id": "view-in-github",
        "colab_type": "text"
      },
      "source": [
        "<a href=\"https://colab.research.google.com/github/takky0330/tabaco/blob/main/tabaco_count.ipynb\" target=\"_parent\"><img src=\"https://colab.research.google.com/assets/colab-badge.svg\" alt=\"Open In Colab\"/></a>"
      ]
    },
    {
      "cell_type": "markdown",
      "source": [
        "# インストール"
      ],
      "metadata": {
        "id": "Wwf0-5kDvjTL"
      }
    },
    {
      "cell_type": "code",
      "source": [
        "from google.colab import drive\n",
        "drive.mount('/content/drive')"
      ],
      "metadata": {
        "colab": {
          "base_uri": "https://localhost:8080/"
        },
        "id": "EsRzUkDq0hlH",
        "outputId": "5c687f69-6cdf-4dff-a7a9-34dad46a3a8a"
      },
      "execution_count": 1,
      "outputs": [
        {
          "output_type": "stream",
          "name": "stdout",
          "text": [
            "Mounted at /content/drive\n"
          ]
        }
      ]
    },
    {
      "cell_type": "code",
      "execution_count": null,
      "metadata": {
        "id": "RXcnl2-nrJGR"
      },
      "outputs": [],
      "source": [
        "pip install ultralytics"
      ]
    },
    {
      "cell_type": "markdown",
      "source": [
        "# 確認"
      ],
      "metadata": {
        "id": "RmfbrfsSv5rZ"
      }
    },
    {
      "cell_type": "code",
      "source": [
        "from ultralytics import YOLO"
      ],
      "metadata": {
        "id": "DhfLYQ_Ss9TY"
      },
      "execution_count": 4,
      "outputs": []
    },
    {
      "cell_type": "code",
      "source": [
        "! ls ./drive/MyDrive/tabaco/images/Luckystrike.jpg"
      ],
      "metadata": {
        "id": "IU5uD03XtIo0"
      },
      "execution_count": null,
      "outputs": []
    },
    {
      "cell_type": "code",
      "source": [
        "# Load a model\n",
        "#source = \"./drive/MyDrive/tabaco/images/images/Luckystrike.jpg\"\n",
        "source = \"./drive/MyDrive/sample_img/cat.jpg\"\n",
        "model = YOLO('yolov8n.pt')  # load an official model"
      ],
      "metadata": {
        "id": "F5jImJNms-O3"
      },
      "execution_count": 63,
      "outputs": []
    },
    {
      "cell_type": "code",
      "source": [
        "# Predict with the model\n",
        "model.predict(source, save=True, imgsz=320, conf=0.5)"
      ],
      "metadata": {
        "id": "C43rDq3UtnLf"
      },
      "execution_count": null,
      "outputs": []
    },
    {
      "cell_type": "markdown",
      "source": [
        "# アノテーション（ローカル作業）"
      ],
      "metadata": {
        "id": "NCI7cL_Lc2iU"
      }
    },
    {
      "cell_type": "code",
      "source": [
        "## ローカルで実施\n",
        "# pip install labelImg\n",
        "\n",
        "## 以下のような構造で、Google　Drive　にアップロードする\n",
        "# % tree ./Downloads/tabaco\n",
        "# ./Downloads/tabaco\n",
        "# ├── images\n",
        "# │   ├── images\n",
        "# │   │   ├── IMG_2898.jpg\n",
        "# │   │   ├── Luckystrike.jpg\n",
        "# │   │   └── tabaco.jpeg\n",
        "# │   └── labels\n",
        "# │       ├── IMG_2898.txt\n",
        "# │       ├── Luckystrike.txt\n",
        "# │       └── tabaco.txt\n",
        "# └── tabaco.yaml\n",
        "\n",
        "\n",
        "\n",
        "\n",
        "\n",
        "##　yamlは以下のように記述する\n",
        "# # YOLOv5 🚀 by Ultralytics, AGPL-3.0 license\n",
        "# # COCO128 dataset https://www.kaggle.com/ultralytics/coco128 (first 128 images from COCO train2017) by Ultralytics\n",
        "# # Example usage: python train.py --data coco128.yaml\n",
        "# # parent\n",
        "# # ├── yolov5\n",
        "# # └── datasets\n",
        "# #     └── coco128  ← downloads here (7 MB)\n",
        "#\n",
        "#\n",
        "# # Train/val/test sets as 1) dir: path/to/imgs, 2) file: path/to/imgs.txt, or 3) list: [path/to/imgs1, path/to/imgs2, ..]\n",
        "# path: /content/drive/MyDrive/tabaco/ # dataset root dir\n",
        "# train: images  # train images (relative to 'path') 128 images\n",
        "# val: images  # val images (relative to 'path') 128 images\n",
        "# test:  # test images (optional)\n",
        "\n",
        "# # Classes\n",
        "# names:\n",
        "#   0: tabaco_above\n",
        "#   1: tabaco_case\n",
        "#   2: tabaco_side"
      ],
      "metadata": {
        "id": "Crq6yp1Rc1E4"
      },
      "execution_count": 74,
      "outputs": []
    },
    {
      "cell_type": "markdown",
      "source": [
        "# ファインチューニング"
      ],
      "metadata": {
        "id": "WDrXxewkvulS"
      }
    },
    {
      "cell_type": "code",
      "source": [
        "from ultralytics import YOLO\n",
        "\n",
        "# Load a model\n",
        "model = YOLO('yolov8n.pt')  # load a pretrained model (recommended for training)"
      ],
      "metadata": {
        "id": "j8f-7bzovtbT"
      },
      "execution_count": 51,
      "outputs": []
    },
    {
      "cell_type": "code",
      "source": [
        "# Train the model\n",
        "model.train(data='./drive/MyDrive/tabaco/tabaco.yaml', epochs=100, imgsz=640)"
      ],
      "metadata": {
        "id": "mJUvxwP70-5Z"
      },
      "execution_count": null,
      "outputs": []
    },
    {
      "cell_type": "markdown",
      "source": [
        "#Predict"
      ],
      "metadata": {
        "id": "2CZmGELsgAYG"
      }
    },
    {
      "cell_type": "code",
      "source": [
        "source = \"./drive/MyDrive/tabaco/images/images/Luckystrike.jpg\"\n",
        "model = YOLO('/content/runs/detect/train/weights/best.pt')\n",
        "model.predict(source, save=True, imgsz=320, conf=0.5)"
      ],
      "metadata": {
        "id": "AD5AR_DQ17pv"
      },
      "execution_count": null,
      "outputs": []
    },
    {
      "cell_type": "code",
      "source": [
        "source = \"./drive/MyDrive/tabaco/images/images/tabaco.jpeg\"\n",
        "model = YOLO('/content/runs/detect/train/weights/best.pt')\n",
        "model.predict(source, save=True, imgsz=320, conf=0.5)"
      ],
      "metadata": {
        "id": "yiqoxG37JtnT"
      },
      "execution_count": null,
      "outputs": []
    },
    {
      "cell_type": "code",
      "source": [
        "source = \"./drive/MyDrive/tabaco/images/images/IMG_2898.jpg\"\n",
        "model = YOLO('/content/runs/detect/train/weights/best.pt')\n",
        "model.predict(source, save=True, imgsz=320, conf=0.5)"
      ],
      "metadata": {
        "id": "KtypII6rJuyM"
      },
      "execution_count": null,
      "outputs": []
    }
  ]
}